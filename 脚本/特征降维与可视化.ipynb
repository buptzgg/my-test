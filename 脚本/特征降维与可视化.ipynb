{
 "cells": [
  {
   "cell_type": "code",
   "execution_count": 1,
   "metadata": {},
   "outputs": [],
   "source": [
    "from numpy import*\n",
    "import matplotlib.pyplot as plt\n",
    "import matplotlib"
   ]
  },
  {
   "cell_type": "code",
   "execution_count": 3,
   "metadata": {},
   "outputs": [],
   "source": [
    "def loadDataSet(filename,delim='\\t'):#用两个参数，分别是文件路径，进行片段切分的符号\n",
    "    fr = open(filname)\n",
    "    stringlist = [line.strip().split(delim) for line in fr.readlines() ]#读取每一行，读取之后剔除每一行的空格，然后切分\n",
    "    dataMax = [list(map(float,line)) for line in stringlist]#map操作，首先第一参数是方法，转为浮点类型，在接收为列表\n",
    "    return mat(dataMax)\n",
    "\n",
    "\n",
    "if __name__ == '__main__':#加载数据集并转化为浮点型的数据\n",
    "    filname = 'C:\\\\Users\\\\23224\\\\Desktop\\\\lianxi.txt'\n",
    "    dataMax = loadDataSet('C:\\\\Users\\\\23224\\\\Desktop\\\\lianxi.txt')\n",
    "#     print('坐标系原始数据： \\n',dataMax)"
   ]
  },
  {
   "cell_type": "markdown",
   "metadata": {},
   "source": [
    "###方差：度量一维数据的离散程度，方差越小，数据越稳定\n",
    "###协方差：度量二维数据，计算各个维度偏离均值的统计量\n",
    "###协方差矩阵，计算N维数据偏离其均值的程度"
   ]
  },
  {
   "cell_type": "markdown",
   "metadata": {},
   "source": [
    "###实现PCA算法步骤：去除平均值，将协方差矩阵排序，计算特征值和特征向量，将特征值排序，保留前N个特征向量，N个特征向量构建新空间"
   ]
  },
  {
   "cell_type": "code",
   "execution_count": 77,
   "metadata": {},
   "outputs": [
    {
     "name": "stdout",
     "output_type": "stream",
     "text": [
      "坐标系原始数据：\n",
      " [[ 2.67  2.68]\n",
      " [ 2.67  2.69]\n",
      " [ 2.69  2.7 ]\n",
      " ...\n",
      " [10.41 10.6 ]\n",
      " [10.62 10.78]\n",
      " [10.49 10.98]]\n",
      "降维后的数据：\n",
      " [[ 2.65858882  2.69115703]\n",
      " [ 2.66358755  2.69626963]\n",
      " [ 2.67836109  2.71137969]\n",
      " ...\n",
      " [10.40043241 10.6093545 ]\n",
      " [10.59304499 10.80635467]\n",
      " [10.62948342 10.84362315]]\n"
     ]
    }
   ],
   "source": [
    "def pca(dataMax,topNfeat):#原始数据矩阵与应用的n个特征\n",
    "    #计算每一列的均值\n",
    "    meanVals = mean(dataMax,axis=0)#axis=0,表示求列的平均值，axis=1，表示求行的平均值\n",
    "    #     print('各列的平均值：\\n',meanVals\n",
    "    meanremoved = dataMax-meanVals#每一个数减去均值\n",
    "    #     print(menaremoved)\n",
    "    covMat = cov(meanremoved,rowvar=0)#rowvar表示传入的数据是一个样本,一行一行的传入的\n",
    "    #计算特征值和特征向量\n",
    "    eigVals,eigVects = linalg.eig(mat(covMat))\n",
    "#     print('特征值：\\n',eigVals,'\\n特征向量: \\n',eigVects)\n",
    "    eigValIend = argsort(eigVals)#从小到大排序，返回序号\n",
    "    #保留前N个特征值对应的特征向量\n",
    "    eigValIend = eigValIend[:-(topNfeat+1):-1]\n",
    "#     print(eigValIend)\n",
    "    redEigVect = eigVects[:,eigValIend]\n",
    "#     print('保留前N个最大的特征值对应的特征向量：',redEigVect.T)\n",
    "    #将数据置换到新的空间，完成降维\n",
    "    lowDataMat = meanremoved*redEigVect#低维度的数据=去除均值的值*处理后的矩阵\n",
    "    reconMat = (lowDataMat*redEigVect.T)+meanVals#降维后的数据 = 低维度的数据矩阵*特征向量的转置+每行的平均值\n",
    "    \n",
    "    return lowDataMat,reconMat\n",
    "    \n",
    "if __name__ == '__main__':\n",
    "    #1.加载数据集\n",
    "    dataMax = loadDataSet('lianxi.txt')\n",
    "    print('坐标系原始数据：\\n',dataMax)\n",
    "    lowDataMat,reconMat = pca(dataMax,2)\n",
    "#     print('降维前的数据规模:\\n',lowDataMat)\n",
    "    \n",
    "    lowDataMat,reconMat = pca(dataMax,1)\n",
    "#     print('降维后的数据规模：\\n',lowDataMat)\n",
    "    \n",
    "#     print(shape(reconMat))\n",
    "    \n",
    "   \n",
    "    print('降维后的数据：\\n',reconMat)\n",
    "    # print('坐标系原始数据： \\n', dataMax)\n",
    "    #2.主成分分析，降维特征向量"
   ]
  },
  {
   "cell_type": "code",
   "execution_count": 75,
   "metadata": {},
   "outputs": [
    {
     "data": {
      "image/png": "[encoded data removed]",
      "text/plain": [
       "<Figure size 432x288 with 1 Axes>"
      ]
     },
     "metadata": {
      "needs_background": "light"
     },
     "output_type": "display_data"
    }
   ],
   "source": [
    "fig = plt.figure()\n",
    "ax = fig.add_subplot(111)\n",
    "#flatten方法能将矩阵数据变成一维\n",
    "ax.scatter(dataMax[:,0].flatten().A[0],dataMax[:,1].flatten().A[0],marker='^',s=1,c='green')\n",
    "ax.scatter(reconMat[:,0].flatten().A[0],reconMat[:,1].flatten().A[0],marker='*',s=1,c='red')\n",
    "plt.show()"
   ]
  }
 ],
 "metadata": {
  "kernelspec": {
   "display_name": "Python 3",
   "language": "python",
   "name": "python3"
  },
  "language_info": {
   "codemirror_mode": {
    "name": "ipython",
    "version": 3
   },
   "file_extension": ".py",
   "mimetype": "text/x-python",
   "name": "python",
   "nbconvert_exporter": "python",
   "pygments_lexer": "ipython3",
   "version": "3.8.3"
  }
 },
 "nbformat": 4,
 "nbformat_minor": 4
}
