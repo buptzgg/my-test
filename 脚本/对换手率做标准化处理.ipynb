{
 "cells": [
  {
   "cell_type": "code",
   "execution_count": 1,
   "metadata": {},
   "outputs": [],
   "source": [
    "import matplotlib.pyplot as plt\n",
    "import pandas as pd\n",
    "import numpy as np\n",
    "import os\n",
    "import requests\n",
    "from lxml import etree\n",
    "import re\n",
    "from bs4 import BeautifulSoup\n",
    "import lxml\n",
    "import urllib.request"
   ]
  },
  {
   "cell_type": "code",
   "execution_count": 2,
   "metadata": {},
   "outputs": [],
   "source": [
    "pa ='C:\\\\Users\\\\23224\\\\数据\\\\爬取的数据\\\\股票交易数据'\n",
    "for i in os.listdir(pa):\n",
    "    path = 'C:/Users/23224/数据/爬取的数据/股票交易数据/'+i\n",
    "    file = pd.read_csv(path,encoding='gb18030')\n",
    "    files = file.set_index(file['日期'])#使用日期作为列表的索引\n",
    "    files_list = files['换手率']   \n",
    "    data1 = pd.DataFrame(files_list)#先运行data1，再将data1赋值给data0    "
   ]
  },
  {
   "cell_type": "code",
   "execution_count": 3,
   "metadata": {},
   "outputs": [],
   "source": [
    "data0=data1"
   ]
  },
  {
   "cell_type": "code",
   "execution_count": 4,
   "metadata": {},
   "outputs": [],
   "source": [
    "path ='C:\\\\Users\\\\23224\\\\数据\\\\爬取的数据\\\\股票交易数据'\n",
    "for i in os.listdir(path):\n",
    "    path = 'C:/Users/23224/数据/爬取的数据/股票交易数据/'+i\n",
    "    file = pd.read_csv(path,encoding='gb18030')\n",
    "    files = file.set_index(file['日期'])#使用日期作为列表的索引\n",
    "    files_list = files['换手率']   \n",
    "    data1 = pd.DataFrame(files_list)#先运行data1，再将data1赋值给data0\n",
    "    data0 = data0.merge(data1,how='outer',on = '日期')#拼接函数"
   ]
  },
  {
   "cell_type": "code",
   "execution_count": 7,
   "metadata": {},
   "outputs": [],
   "source": [
    "del data0['换手率']#由于程序原因，最后一列和第一列一样，故删除最后一列换手率"
   ]
  },
  {
   "cell_type": "code",
   "execution_count": 11,
   "metadata": {},
   "outputs": [],
   "source": [
    "res = requests.get('https://hq.gucheng.com/gpdmylb.html')\n",
    "res_xpath = etree.HTML(res.text)\n",
    "node = res_xpath.xpath('//*[@id=\"stock_index_right\"]/div[3]/section/a[@href]/text()')\n",
    "codeall = re.findall(r'\\d{6}', str(node))\n",
    "code_list = []\n",
    "for node in codeall:\n",
    "    code_list.append(node)\n",
    "gp_list = code_list[3:1003]#股票代码\n",
    "# print(gp_list)\n",
    "m= sorted(gp_list[:1003],reverse=False)\n",
    "m.pop()#\n",
    "n= ['603693']\n",
    "f = n+m\n",
    "data0.columns = f\n",
    "data0.sort_index(ascending=False)\n",
    "data_new = data0.dropna(how='any',axis=1)#删除含有缺失值的列\n",
    "data_new.to_excel('预处理后股票五年间每天的换手率.xlsx')"
   ]
  },
  {
   "cell_type": "code",
   "execution_count": 17,
   "metadata": {},
   "outputs": [
    {
     "data": {
      "text/plain": [
       "000005    1.599669\n",
       "000006    1.637522\n",
       "000007    3.192609\n",
       "000008    0.989539\n",
       "000009    2.161433\n",
       "            ...   \n",
       "002523    1.344681\n",
       "002524    3.483381\n",
       "002526    2.769412\n",
       "002527    0.992764\n",
       "002528    1.240415\n",
       "Length: 962, dtype: float64"
      ]
     },
     "execution_count": 17,
     "metadata": {},
     "output_type": "execute_result"
    }
   ],
   "source": [
    "data_list1 = np.std(data_new,axis=0)#数据标准化处理\n",
    "data_list1"
   ]
  }
 ],
 "metadata": {
  "kernelspec": {
   "display_name": "Python 3",
   "language": "python",
   "name": "python3"
  },
  "language_info": {
   "codemirror_mode": {
    "name": "ipython",
    "version": 3
   },
   "file_extension": ".py",
   "mimetype": "text/x-python",
   "name": "python",
   "nbconvert_exporter": "python",
   "pygments_lexer": "ipython3",
   "version": "3.8.3"
  }
 },
 "nbformat": 4,
 "nbformat_minor": 4
}
